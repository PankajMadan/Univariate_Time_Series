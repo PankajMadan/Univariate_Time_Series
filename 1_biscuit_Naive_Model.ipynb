{
 "cells": [
  {
   "cell_type": "code",
   "execution_count": 1,
   "id": "exceptional-width",
   "metadata": {},
   "outputs": [],
   "source": [
    "# Importing Required Python Packages\n",
    "import numpy as np\n",
    "import pandas as pd\n",
    "import matplotlib.pyplot as plt\n",
    "import seaborn as sns\n",
    "import warnings\n",
    "warnings.filterwarnings('ignore')\n",
    "pd.set_option('display.max_columns',None)"
   ]
  },
  {
   "cell_type": "code",
   "execution_count": 2,
   "id": "actual-forwarding",
   "metadata": {},
   "outputs": [
    {
     "name": "stdout",
     "output_type": "stream",
     "text": [
      "<class 'pandas.core.frame.DataFrame'>\n",
      "DatetimeIndex: 72 entries, 2016-10-01 to 2019-09-01\n",
      "Data columns (total 2 columns):\n",
      " #   Column    Non-Null Count  Dtype  \n",
      "---  ------    --------------  -----  \n",
      " 0   Vol       72 non-null     float64\n",
      " 1   Category  72 non-null     object \n",
      "dtypes: float64(1), object(1)\n",
      "memory usage: 1.7+ KB\n"
     ]
    }
   ],
   "source": [
    "# Reading in the dataset & getting its info\n",
    "df = pd.read_csv('prepared_data.csv',index_col='Date',parse_dates=True)\n",
    "df.info()"
   ]
  },
  {
   "cell_type": "code",
   "execution_count": 3,
   "id": "southeast-longitude",
   "metadata": {},
   "outputs": [],
   "source": [
    "# Segregating the dataset for buiscuits and Chocolate\n",
    "bis = df.loc[df['Category'] == 'BISCUIT']"
   ]
  },
  {
   "cell_type": "code",
   "execution_count": 4,
   "id": "secret-prime",
   "metadata": {},
   "outputs": [],
   "source": [
    "# Converting the biscuit volume series into pandas series\n",
    "bis_s = (bis['Vol']).copy()"
   ]
  },
  {
   "cell_type": "code",
   "execution_count": 5,
   "id": "confused-activity",
   "metadata": {},
   "outputs": [],
   "source": [
    "# Taking log of the biscuit volume series to reduce variance\n",
    "bis_log = np.log10(bis_s)"
   ]
  },
  {
   "cell_type": "markdown",
   "id": "least-example",
   "metadata": {},
   "source": [
    "### Creating functions for making simple forescats on univariate series"
   ]
  },
  {
   "cell_type": "code",
   "execution_count": 7,
   "id": "black-basic",
   "metadata": {},
   "outputs": [],
   "source": [
    "# importing necessary packages\n",
    "from math import sqrt\n",
    "from numpy import mean\n",
    "from numpy import median\n",
    "from multiprocessing import cpu_count\n",
    "from joblib import Parallel\n",
    "from joblib import delayed\n",
    "from warnings import catch_warnings\n",
    "from warnings import filterwarnings\n",
    "from sklearn.metrics import mean_squared_error"
   ]
  },
  {
   "cell_type": "code",
   "execution_count": 8,
   "id": "explicit-input",
   "metadata": {},
   "outputs": [],
   "source": [
    "# Makes one-step simple forecast on the given training set history\n",
    "def simple_forecast(history, config):\n",
    "    ''' makes naive predictions on historical observations\n",
    "    with given configs(tuple) '''\n",
    "    n, offset, avg_type = config\n",
    "    # persist value, ignore other config\n",
    "    if avg_type == 'persist':\n",
    "        return history[-n]\n",
    "    # collect values to average\n",
    "    values = []\n",
    "    if offset == 1:\n",
    "        values = history[-n:]\n",
    "    else:\n",
    "    # skip bad configs\n",
    "        if n*offset > len(history):\n",
    "            raise Exception('Config beyond end of data: {} {}'.format(n,offset))\n",
    "    # try and collect n values using offset\n",
    "        for i in range(1, n+1):\n",
    "            ix = i * offset\n",
    "            values.append(history[-ix])\n",
    "    # check if we can average\n",
    "    # mean of last n values\n",
    "    if avg_type == 'mean':\n",
    "        return mean(values)\n",
    " # median of last n values\n",
    "    return median(values)"
   ]
  },
  {
   "cell_type": "code",
   "execution_count": 10,
   "id": "fleet-appreciation",
   "metadata": {},
   "outputs": [],
   "source": [
    "# split a univariate dataset into train/test sets\n",
    "def train_test_split(data, n_test):\n",
    "    return data[:-n_test], data[-n_test:]"
   ]
  },
  {
   "cell_type": "code",
   "execution_count": 11,
   "id": "advised-singles",
   "metadata": {},
   "outputs": [],
   "source": [
    "# walk-forward validation for univariate data\n",
    "def walk_forward_validation(data, n_test, cfg):\n",
    "    ''' Outputs the test set RMSE\n",
    "    data: The time series sequence\n",
    "    n_test: no. of test observations\n",
    "    cfg : configuration tuple '''\n",
    "    predictions = []\n",
    "    # split dataset\n",
    "    train, test = train_test_split(data, n_test)\n",
    "# seed history with training dataset\n",
    "    history = [x for x in train]\n",
    "# step over each time-step in the test set\n",
    "    for i in range(len(test)):\n",
    "# fit model and make forecast for history\n",
    "        yhat = simple_forecast(history, cfg)\n",
    "# store forecast in list of predictions\n",
    "        predictions.append(yhat)\n",
    "# add actual observation to history for the next loop\n",
    "        history.append(test[i])\n",
    "# estimate prediction error\n",
    "    error = sqrt(mean_squared_error(test, predictions))\n",
    "    return error"
   ]
  },
  {
   "cell_type": "code",
   "execution_count": 12,
   "id": "unsigned-harbor",
   "metadata": {},
   "outputs": [],
   "source": [
    "# score a model, return None on failure\n",
    "def score_model(data, n_test, cfg):\n",
    "    ''' Calculates the rmse of the naive model by making a call to walk_forward_validation function \n",
    "     within a try except bloc.\n",
    "     \n",
    "    data: Whole Time series.\n",
    "    n_test: No. of test observations.\n",
    "    config: configurations.\n",
    "     \n",
    "    '''\n",
    "     \n",
    "    # one failure during model validation suggests an unstable config\n",
    "    try:\n",
    "    # never show warnings when grid searching, too noisy\n",
    "        result = walk_forward_validation(data, n_test, cfg)\n",
    "    except:\n",
    "        result = None\n",
    "    # return an interesting result\n",
    "    return (str(cfg), result)"
   ]
  },
  {
   "cell_type": "code",
   "execution_count": 13,
   "id": "unlike-smell",
   "metadata": {},
   "outputs": [],
   "source": [
    "def grid_search(data, n_test, config, parallel=True):\n",
    "    ''' performs a grid search for naive model hyper-parameters using multicores\n",
    "    data: Whole Time series.\n",
    "    n_test: No. of test observations.\n",
    "    config: configurations\n",
    "    \n",
    "    '''\n",
    "    \n",
    "    #scores = None\n",
    "    # Entering \n",
    "    '''if parallel:\n",
    "        print('Entering Parallel')\n",
    "        executor = Parallel(n_jobs=(cpu_count()-1), backend='multiprocessing')\n",
    "        print('past executor')\n",
    "        tasks = (delayed(score_func)(data, n_test, cfg, enforce) for cfg in config)\n",
    "        print('past tasks')\n",
    "        scores = executor(tasks)\n",
    "        print('scores assigned')\n",
    "        \n",
    "    else: '''\n",
    "    scores = [score_model(data, n_test, cfg) for cfg in config]\n",
    "    scores = [s for s in scores if s[1] != None]\n",
    "    # sort the scores in ascending order\n",
    "    scores.sort(key=lambda x: x[1])\n",
    "    #print('leaving grid_search')\n",
    "    return scores"
   ]
  },
  {
   "cell_type": "code",
   "execution_count": 16,
   "id": "coated-recipe",
   "metadata": {},
   "outputs": [],
   "source": [
    "def simple_configs(max_length, offsets=[1]):\n",
    "    '''Generates various configuartions for Naive model\n",
    "    max_length: Length of training data\n",
    "    offsets: periodicity or seasonality of the training data, periodicity = 1 for no seasonality\n",
    "    '''\n",
    "    configs = []\n",
    "    for i in range(1, max_length+1):\n",
    "        for o in offsets:\n",
    "            for t in ['persist', 'mean', 'median']: # persist: simply copying the relevant observation from the \n",
    "                cfg = [i, o, t]                     # historical data.\n",
    "                configs.append(cfg)\n",
    "    return configs"
   ]
  },
  {
   "cell_type": "code",
   "execution_count": 18,
   "id": "electric-violence",
   "metadata": {},
   "outputs": [],
   "source": [
    "# Initializing the required data for the analysis of the log_bis series\n",
    "data = bis_log.values \n",
    "n_test = 6\n",
    "max_length = len(data)-n_test\n",
    "config = simple_configs(max_length,[1,12])"
   ]
  },
  {
   "cell_type": "code",
   "execution_count": 19,
   "id": "proprietary-width",
   "metadata": {},
   "outputs": [
    {
     "name": "stdout",
     "output_type": "stream",
     "text": [
      "Total no. of different configurations to be tested are:  180\n"
     ]
    }
   ],
   "source": [
    "print('Total no. of different configurations to be tested are: ',len(config))"
   ]
  },
  {
   "cell_type": "markdown",
   "id": "right-professional",
   "metadata": {},
   "source": [
    "### Evaluating various Naive Models"
   ]
  },
  {
   "cell_type": "code",
   "execution_count": 20,
   "id": "first-faith",
   "metadata": {},
   "outputs": [],
   "source": [
    "# Evaluating the scores for various configurations for the naive models.\n",
    "scores =  grid_search(data, n_test, config)"
   ]
  },
  {
   "cell_type": "code",
   "execution_count": 21,
   "id": "loving-nature",
   "metadata": {},
   "outputs": [
    {
     "data": {
      "text/plain": [
       "[(\"[3, 1, 'median']\", 0.05123110439463994),\n",
       " (\"[4, 1, 'median']\", 0.05928379671261053),\n",
       " (\"[4, 1, 'mean']\", 0.06411667318388294),\n",
       " (\"[7, 1, 'mean']\", 0.06412692110264459),\n",
       " (\"[5, 1, 'median']\", 0.06614641617378819),\n",
       " (\"[6, 1, 'median']\", 0.06634601986525086),\n",
       " (\"[3, 1, 'mean']\", 0.06674453194538722),\n",
       " (\"[8, 1, 'median']\", 0.0680809572218614),\n",
       " (\"[7, 1, 'median']\", 0.06817349955636702),\n",
       " (\"[6, 1, 'mean']\", 0.06864618783044167),\n",
       " (\"[8, 1, 'mean']\", 0.07016235538564773),\n",
       " (\"[9, 1, 'median']\", 0.07085874681484293),\n",
       " (\"[5, 1, 'mean']\", 0.07212922288706589),\n",
       " (\"[9, 1, 'mean']\", 0.07435031093495045),\n",
       " (\"[2, 1, 'mean']\", 0.07653338975089091),\n",
       " (\"[2, 1, 'median']\", 0.07653338975089091),\n",
       " (\"[10, 1, 'median']\", 0.07661428695824515),\n",
       " (\"[7, 1, 'persist']\", 0.07855190557645911),\n",
       " (\"[7, 12, 'persist']\", 0.07855190557645911),\n",
       " (\"[10, 1, 'mean']\", 0.07876384562881074),\n",
       " (\"[3, 1, 'persist']\", 0.07961547844656877),\n",
       " (\"[3, 12, 'persist']\", 0.07961547844656877),\n",
       " (\"[4, 1, 'persist']\", 0.07969902058828587),\n",
       " (\"[4, 12, 'persist']\", 0.07969902058828587),\n",
       " (\"[11, 1, 'median']\", 0.08136827997550479),\n",
       " (\"[1, 1, 'persist']\", 0.08285939994139924),\n",
       " (\"[1, 1, 'mean']\", 0.08285939994139924),\n",
       " (\"[1, 1, 'median']\", 0.08285939994139924),\n",
       " (\"[1, 12, 'persist']\", 0.08285939994139924),\n",
       " (\"[11, 1, 'mean']\", 0.08297889178342084),\n",
       " (\"[12, 1, 'mean']\", 0.0842905692562223),\n",
       " (\"[12, 1, 'median']\", 0.08680172032364655),\n",
       " (\"[13, 1, 'mean']\", 0.08807829602039892),\n",
       " (\"[2, 1, 'persist']\", 0.08910990846293787),\n",
       " (\"[2, 12, 'persist']\", 0.08910990846293787),\n",
       " (\"[6, 1, 'persist']\", 0.09034932101303646),\n",
       " (\"[6, 12, 'persist']\", 0.09034932101303646),\n",
       " (\"[13, 1, 'median']\", 0.09276321240064811),\n",
       " (\"[14, 1, 'mean']\", 0.09386347245242006),\n",
       " (\"[14, 1, 'median']\", 0.09776612593163153),\n",
       " (\"[15, 1, 'mean']\", 0.09826278236695211),\n",
       " (\"[16, 1, 'mean']\", 0.10095434190380467),\n",
       " (\"[15, 1, 'median']\", 0.10297896436357262),\n",
       " (\"[17, 1, 'mean']\", 0.10542207464544497),\n",
       " (\"[16, 1, 'median']\", 0.10715177025133103),\n",
       " (\"[18, 1, 'mean']\", 0.11024347091328622),\n",
       " (\"[17, 1, 'median']\", 0.11276231417698332),\n",
       " (\"[19, 1, 'mean']\", 0.11366283156599263),\n",
       " (\"[20, 1, 'mean']\", 0.1156047629406846),\n",
       " (\"[18, 1, 'median']\", 0.11768410333292827),\n",
       " (\"[21, 1, 'mean']\", 0.11899564352003689),\n",
       " (\"[1, 12, 'mean']\", 0.11987621048979875),\n",
       " (\"[1, 12, 'median']\", 0.11987621048979875),\n",
       " (\"[12, 1, 'persist']\", 0.11987621048979875),\n",
       " (\"[12, 12, 'persist']\", 0.11987621048979875),\n",
       " (\"[5, 1, 'persist']\", 0.12093210874733591),\n",
       " (\"[5, 12, 'persist']\", 0.12093210874733591),\n",
       " (\"[19, 1, 'median']\", 0.12248163964214362),\n",
       " (\"[22, 1, 'mean']\", 0.12314806725611747),\n",
       " (\"[9, 1, 'persist']\", 0.12447480364169385),\n",
       " (\"[9, 12, 'persist']\", 0.12447480364169385),\n",
       " (\"[20, 1, 'median']\", 0.12552343023221085),\n",
       " (\"[8, 1, 'persist']\", 0.1256442921825845),\n",
       " (\"[8, 12, 'persist']\", 0.1256442921825845),\n",
       " (\"[23, 1, 'mean']\", 0.12709704860951263),\n",
       " (\"[21, 1, 'median']\", 0.12863236849573964),\n",
       " (\"[24, 1, 'mean']\", 0.13029264486632802),\n",
       " (\"[22, 1, 'median']\", 0.1307525636875559),\n",
       " (\"[23, 1, 'median']\", 0.13290129074860516),\n",
       " (\"[11, 1, 'persist']\", 0.13309511186764048),\n",
       " (\"[11, 12, 'persist']\", 0.13309511186764048),\n",
       " (\"[25, 1, 'mean']\", 0.13453656593328053),\n",
       " (\"[10, 1, 'persist']\", 0.13526074754068154),\n",
       " (\"[10, 12, 'persist']\", 0.13526074754068154),\n",
       " (\"[24, 1, 'median']\", 0.13583153438836543),\n",
       " (\"[25, 1, 'median']\", 0.13880220772560942),\n",
       " (\"[26, 1, 'mean']\", 0.13889476062817455),\n",
       " (\"[26, 1, 'median']\", 0.14127981865482606),\n",
       " (\"[13, 1, 'persist']\", 0.1432160489960093),\n",
       " (\"[13, 12, 'persist']\", 0.1432160489960093),\n",
       " (\"[27, 1, 'mean']\", 0.14367620067702952),\n",
       " (\"[27, 1, 'median']\", 0.14380756673779083),\n",
       " (\"[28, 1, 'median']\", 0.1466636992568977),\n",
       " (\"[28, 1, 'mean']\", 0.1486348616576082),\n",
       " (\"[29, 1, 'median']\", 0.14959053498614105),\n",
       " (\"[30, 1, 'median']\", 0.15355799092533395),\n",
       " (\"[29, 1, 'mean']\", 0.1537224554100871),\n",
       " (\"[16, 1, 'persist']\", 0.15705508032578497),\n",
       " (\"[16, 12, 'persist']\", 0.15705508032578497),\n",
       " (\"[30, 1, 'mean']\", 0.15791075059305526),\n",
       " (\"[20, 1, 'persist']\", 0.1658863403554894),\n",
       " (\"[20, 12, 'persist']\", 0.1658863403554894),\n",
       " (\"[2, 12, 'mean']\", 0.17057743823848553),\n",
       " (\"[2, 12, 'median']\", 0.17057743823848553),\n",
       " (\"[15, 1, 'persist']\", 0.1752179454562986),\n",
       " (\"[15, 12, 'persist']\", 0.1752179454562986),\n",
       " (\"[14, 1, 'persist']\", 0.1762418863698916),\n",
       " (\"[14, 12, 'persist']\", 0.1762418863698916),\n",
       " (\"[17, 1, 'persist']\", 0.18058567581296434),\n",
       " (\"[17, 12, 'persist']\", 0.18058567581296434),\n",
       " (\"[19, 1, 'persist']\", 0.18929913471762544),\n",
       " (\"[19, 12, 'persist']\", 0.18929913471762544),\n",
       " (\"[21, 1, 'persist']\", 0.1906967207493584),\n",
       " (\"[21, 12, 'persist']\", 0.1906967207493584),\n",
       " (\"[18, 1, 'persist']\", 0.19949488460759038),\n",
       " (\"[18, 12, 'persist']\", 0.19949488460759038),\n",
       " (\"[22, 1, 'persist']\", 0.22044269145942783),\n",
       " (\"[22, 12, 'persist']\", 0.22044269145942783),\n",
       " (\"[24, 1, 'persist']\", 0.22385640519717764),\n",
       " (\"[24, 12, 'persist']\", 0.22385640519717764),\n",
       " (\"[23, 1, 'persist']\", 0.22730791487242014),\n",
       " (\"[23, 12, 'persist']\", 0.22730791487242014),\n",
       " (\"[25, 1, 'persist']\", 0.24657662244835124),\n",
       " (\"[25, 12, 'persist']\", 0.24657662244835124),\n",
       " (\"[26, 1, 'persist']\", 0.2570194148708387),\n",
       " (\"[26, 12, 'persist']\", 0.2570194148708387),\n",
       " (\"[27, 1, 'persist']\", 0.27533283199328284),\n",
       " (\"[27, 12, 'persist']\", 0.27533283199328284),\n",
       " (\"[28, 1, 'persist']\", 0.28809666307759524),\n",
       " (\"[28, 12, 'persist']\", 0.28809666307759524),\n",
       " (\"[30, 1, 'persist']\", 0.2953022735011087),\n",
       " (\"[30, 12, 'persist']\", 0.2953022735011087),\n",
       " (\"[29, 1, 'persist']\", 0.3081153830620119),\n",
       " (\"[29, 12, 'persist']\", 0.3081153830620119)]"
      ]
     },
     "execution_count": 21,
     "metadata": {},
     "output_type": "execute_result"
    }
   ],
   "source": [
    "scores"
   ]
  },
  {
   "cell_type": "markdown",
   "id": "closed-mitchell",
   "metadata": {},
   "source": [
    "### Observations:\n",
    "### 1) The best naive model has configuration [  'Past_observations_to be_analyzed': 3,  'Period of Seasonality' : 1, 'Method': Median ]  \n",
    "### 2) The best naive model has test set rmse of 0.0512311. This is the baseline & if any model has test set rmse  less than the previous figure, then that model is said to have some predictive power."
   ]
  },
  {
   "cell_type": "code",
   "execution_count": null,
   "id": "quiet-return",
   "metadata": {},
   "outputs": [],
   "source": []
  }
 ],
 "metadata": {
  "kernelspec": {
   "display_name": "Python 3",
   "language": "python",
   "name": "python3"
  },
  "language_info": {
   "codemirror_mode": {
    "name": "ipython",
    "version": 3
   },
   "file_extension": ".py",
   "mimetype": "text/x-python",
   "name": "python",
   "nbconvert_exporter": "python",
   "pygments_lexer": "ipython3",
   "version": "3.8.5"
  }
 },
 "nbformat": 4,
 "nbformat_minor": 5
}
