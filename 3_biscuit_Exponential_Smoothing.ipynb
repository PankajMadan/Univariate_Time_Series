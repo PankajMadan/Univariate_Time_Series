{
 "cells": [
  {
   "cell_type": "code",
   "execution_count": 1,
   "id": "initial-agency",
   "metadata": {},
   "outputs": [],
   "source": [
    "# Importing Required Python Packages\n",
    "import numpy as np\n",
    "import pandas as pd\n",
    "import matplotlib.pyplot as plt\n",
    "import seaborn as sns\n",
    "import warnings\n",
    "warnings.filterwarnings('ignore')\n",
    "pd.set_option('display.max_columns',None)"
   ]
  },
  {
   "cell_type": "code",
   "execution_count": 2,
   "id": "desperate-miami",
   "metadata": {},
   "outputs": [
    {
     "name": "stdout",
     "output_type": "stream",
     "text": [
      "<class 'pandas.core.frame.DataFrame'>\n",
      "DatetimeIndex: 72 entries, 2016-10-01 to 2019-09-01\n",
      "Data columns (total 2 columns):\n",
      " #   Column    Non-Null Count  Dtype  \n",
      "---  ------    --------------  -----  \n",
      " 0   Vol       72 non-null     float64\n",
      " 1   Category  72 non-null     object \n",
      "dtypes: float64(1), object(1)\n",
      "memory usage: 1.7+ KB\n"
     ]
    }
   ],
   "source": [
    "# Reading in the dataset & getting its info\n",
    "df = pd.read_csv('prepared_data.csv',index_col='Date',parse_dates=True)\n",
    "df.info()"
   ]
  },
  {
   "cell_type": "code",
   "execution_count": 3,
   "id": "optical-indication",
   "metadata": {},
   "outputs": [],
   "source": [
    "# Segregating the dataset for buiscuits and Chocolate\n",
    "bis = df.loc[df['Category'] == 'BISCUIT']\n",
    "choc = df.loc[df['Category'] != 'BISCUIT']"
   ]
  },
  {
   "cell_type": "code",
   "execution_count": 5,
   "id": "spread-impossible",
   "metadata": {},
   "outputs": [],
   "source": [
    "# Converting the biscuit volume series into pandas series\n",
    "bis_s = (bis['Vol']).copy()"
   ]
  },
  {
   "cell_type": "code",
   "execution_count": 6,
   "id": "hybrid-motel",
   "metadata": {},
   "outputs": [],
   "source": [
    "# Taking log of the biscuit volume series to reduce variance\n",
    "bis_log = np.log10(bis_s)"
   ]
  },
  {
   "cell_type": "markdown",
   "id": "usual-ownership",
   "metadata": {},
   "source": [
    "### As has been observed previously, the bis_log series is non_stationary with seasonality equal to 12, we would be employing holt winters tests, with and without both trend & stationarity."
   ]
  },
  {
   "cell_type": "markdown",
   "id": "deluxe-inflation",
   "metadata": {},
   "source": [
    "### Fitting Holt Winter's Exponential smoothing models on the log_bis series. "
   ]
  },
  {
   "cell_type": "code",
   "execution_count": 7,
   "id": "unusual-reconstruction",
   "metadata": {},
   "outputs": [],
   "source": [
    "from math import sqrt\n",
    "from multiprocessing import cpu_count\n",
    "from joblib import Parallel\n",
    "from joblib import delayed\n",
    "from warnings import catch_warnings\n",
    "from warnings import filterwarnings\n",
    "from statsmodels.tsa.holtwinters import ExponentialSmoothing\n",
    "from sklearn.metrics import mean_squared_error\n",
    "from numpy import array"
   ]
  },
  {
   "cell_type": "code",
   "execution_count": 8,
   "id": "residential-miller",
   "metadata": {},
   "outputs": [],
   "source": [
    "# one-step Holt Winters Exponential Smoothing forecast\n",
    "def exp_smoothing_forecast(history, config):\n",
    "    ''' Performs one step forecasting for univaritae series using Exponential Smoothing Function'''\n",
    "    t,d,s,p,b,r = config\n",
    "    # define model\n",
    "    history = array(history)\n",
    "    model = ExponentialSmoothing(history, trend=t, damped=d, seasonal=s, seasonal_periods=p)\n",
    "    # fit model\n",
    "    model_fit = model.fit(optimized=True, use_boxcox=b, remove_bias=r)\n",
    "    # make one step forecast\n",
    "    yhat = model_fit.predict(len(history), len(history))\n",
    "    return yhat[0]"
   ]
  },
  {
   "cell_type": "code",
   "execution_count": 9,
   "id": "handmade-isaac",
   "metadata": {},
   "outputs": [],
   "source": [
    "# split a univariate dataset into train/test sets\n",
    "def train_test_split(data, n_test):\n",
    "    return data[:-n_test], data[-n_test:]"
   ]
  },
  {
   "cell_type": "code",
   "execution_count": 10,
   "id": "eastern-restoration",
   "metadata": {},
   "outputs": [],
   "source": [
    "def walk_forward_validation(data, n_test, config):\n",
    "    ''' Outputs the test set RMSE\n",
    "    data: The time series sequence\n",
    "    n_test: no. of test observations\n",
    "    cfg : configuration tuple '''\n",
    "    #print('entering walk_forward')\n",
    "    predictions = []\n",
    "    # split dataset\n",
    "    train, test = train_test_split(data, n_test)\n",
    "    # seed history with training dataset\n",
    "    history = [x for x in train]\n",
    "    # step over each time-step in the test set\n",
    "    for i in range(len(test)):\n",
    "        # fit model and make forecast for history\n",
    "        yhat = exp_smoothing_forecast(history, config)\n",
    "        # store forecast in list of predictions\n",
    "        predictions.append(yhat)\n",
    "        # add actual observation to history for the next loop\n",
    "        history.append(test[i])\n",
    "        #print('prediction {} done'.format(i))\n",
    "    # estimate prediction error\n",
    "    error = sqrt(mean_squared_error(test, predictions))\n",
    "    #print('Leaving walk_forward_validation')\n",
    "    return error"
   ]
  },
  {
   "cell_type": "code",
   "execution_count": 11,
   "id": "analyzed-label",
   "metadata": {},
   "outputs": [],
   "source": [
    "def score_func(data, n_test, config):\n",
    "    ''' Calculates the rmse of the Exponential smoothing model by making a call to walk_forward_validation function \n",
    "     within a try except bloc'''\n",
    "    #print('entering score_func')\n",
    "    try:\n",
    "        error = walk_forward_validation(data, n_test, config)\n",
    "    except:\n",
    "        print('entering except block')\n",
    "        error = None \n",
    "    #print('leaving score_func')\n",
    "    return (str(config), error)     "
   ]
  },
  {
   "cell_type": "code",
   "execution_count": 12,
   "id": "behind-selling",
   "metadata": {},
   "outputs": [],
   "source": [
    "def grid_search(data, n_test, config, parallel=True):\n",
    "    ''' performs a grid search of Exponential smoothing hyper-parameters using multicores'''\n",
    "    #scores = None\n",
    "    # Entering \n",
    "    '''if parallel:\n",
    "        print('Entering Parallel')\n",
    "        executor = Parallel(n_jobs=(cpu_count()-1), backend='multiprocessing')\n",
    "        print('past executor')\n",
    "        tasks = (delayed(score_func)(data, n_test, cfg, enforce) for cfg in config)\n",
    "        print('past tasks')\n",
    "        scores = executor(tasks)\n",
    "        print('scores assigned')\n",
    "        \n",
    "    else: '''\n",
    "    scores = [score_func(data, n_test, cfg) for cfg in config]\n",
    "    scores = [s for s in scores if s[1] != None]\n",
    "    # sort the scores in ascending order\n",
    "    scores.sort(key=lambda x: x[1])\n",
    "    #print('leaving grid_search')\n",
    "    return scores"
   ]
  },
  {
   "cell_type": "code",
   "execution_count": 14,
   "id": "israeli-mediterranean",
   "metadata": {},
   "outputs": [],
   "source": [
    "def gen_configs(seasonal=[0]):\n",
    "    '''generates configurations for exponential smoothing model'''\n",
    "    config = []\n",
    "    t_params = ['add', 'mul', None] # Trend parameter : Additive/Multiplicative\n",
    "    d_params = [True, False]        # Tend damped or not\n",
    "    s_params = ['add', 'mul', None] # Seasonal component: additive Or Multiplicative\n",
    "    p_params = seasonal             # Seasonality of the series\n",
    "    b_params = [True, False]        # Use Box_cox transformations\n",
    "    r_params = [True, False]        # Remove bias from forecast values and fitted values \n",
    "                                    # by enforcing that the average residual is equal to zero\n",
    "    # create config instances\n",
    "    for t in t_params:\n",
    "        for d in d_params:\n",
    "            for s in s_params:\n",
    "                for p in p_params:\n",
    "                    for b in b_params:\n",
    "                        for r in r_params:\n",
    "                            cfg = [t,d,s,p,b,r]\n",
    "                            config.append(cfg)\n",
    "    return config"
   ]
  },
  {
   "cell_type": "code",
   "execution_count": 19,
   "id": "higher-grocery",
   "metadata": {},
   "outputs": [],
   "source": [
    "# Initializing the required data for the analysis of the log_biscuit series\n",
    "data = bis_log \n",
    "n_test = 6\n",
    "config = gen_configs([0,3,12])"
   ]
  },
  {
   "cell_type": "code",
   "execution_count": 20,
   "id": "reflected-character",
   "metadata": {},
   "outputs": [
    {
     "name": "stdout",
     "output_type": "stream",
     "text": [
      "Total no. of different configurations to be tested are:  216\n"
     ]
    }
   ],
   "source": [
    "print('Total no. of different configurations to be tested are: ',len(config))"
   ]
  },
  {
   "cell_type": "markdown",
   "id": "dressed-confirmation",
   "metadata": {},
   "source": [
    "### Evaluating Holt Winter's Exponential smoothing models"
   ]
  },
  {
   "cell_type": "code",
   "execution_count": 21,
   "id": "following-desire",
   "metadata": {},
   "outputs": [
    {
     "name": "stdout",
     "output_type": "stream",
     "text": [
      "entering except block\n",
      "entering except block\n",
      "entering except block\n",
      "entering except block\n",
      "entering except block\n",
      "entering except block\n",
      "entering except block\n",
      "entering except block\n",
      "entering except block\n",
      "entering except block\n",
      "entering except block\n",
      "entering except block\n",
      "entering except block\n",
      "entering except block\n",
      "entering except block\n",
      "entering except block\n",
      "entering except block\n",
      "entering except block\n",
      "entering except block\n",
      "entering except block\n",
      "entering except block\n",
      "entering except block\n",
      "entering except block\n",
      "entering except block\n",
      "entering except block\n",
      "entering except block\n",
      "entering except block\n",
      "entering except block\n"
     ]
    },
    {
     "name": "stderr",
     "output_type": "stream",
     "text": [
      "C:\\Users\\panka\\anaconda3\\lib\\site-packages\\statsmodels\\tsa\\holtwinters\\model.py:920: ConvergenceWarning: Optimization failed to converge. Check mle_retvals.\n",
      "  warnings.warn(\n",
      "C:\\Users\\panka\\anaconda3\\lib\\site-packages\\statsmodels\\tsa\\holtwinters\\model.py:920: ConvergenceWarning: Optimization failed to converge. Check mle_retvals.\n",
      "  warnings.warn(\n",
      "C:\\Users\\panka\\anaconda3\\lib\\site-packages\\statsmodels\\tsa\\holtwinters\\model.py:920: ConvergenceWarning: Optimization failed to converge. Check mle_retvals.\n",
      "  warnings.warn(\n",
      "C:\\Users\\panka\\anaconda3\\lib\\site-packages\\statsmodels\\tsa\\holtwinters\\model.py:920: ConvergenceWarning: Optimization failed to converge. Check mle_retvals.\n",
      "  warnings.warn(\n"
     ]
    },
    {
     "name": "stdout",
     "output_type": "stream",
     "text": [
      "entering except block\n",
      "entering except block\n",
      "entering except block\n",
      "entering except block\n",
      "entering except block\n",
      "entering except block\n",
      "entering except block\n",
      "entering except block\n",
      "entering except block\n",
      "entering except block\n",
      "entering except block\n",
      "entering except block\n",
      "entering except block\n",
      "entering except block\n",
      "entering except block\n",
      "entering except block\n",
      "entering except block\n",
      "entering except block\n",
      "entering except block\n",
      "entering except block\n",
      "entering except block\n",
      "entering except block\n",
      "entering except block\n",
      "entering except block\n",
      "entering except block\n",
      "entering except block\n",
      "entering except block\n",
      "entering except block\n",
      "entering except block\n",
      "entering except block\n",
      "entering except block\n",
      "entering except block\n",
      "entering except block\n",
      "entering except block\n",
      "entering except block\n",
      "entering except block\n",
      "entering except block\n",
      "entering except block\n",
      "entering except block\n",
      "entering except block\n",
      "entering except block\n",
      "entering except block\n",
      "entering except block\n",
      "entering except block\n",
      "entering except block\n",
      "entering except block\n",
      "entering except block\n",
      "entering except block\n"
     ]
    }
   ],
   "source": [
    "# Evaluating the scores for various configurations when stationarity has been enforced\n",
    "scores =  grid_search(data, n_test, config)"
   ]
  },
  {
   "cell_type": "code",
   "execution_count": 22,
   "id": "married-welcome",
   "metadata": {},
   "outputs": [
    {
     "data": {
      "text/plain": [
       "[(\"['add', False, 'mul', 12, False, False]\", 0.02472926983353512),\n",
       " (\"['add', False, 'mul', 12, False, True]\", 0.02497112370292588),\n",
       " (\"['mul', False, 'mul', 12, False, True]\", 0.025393401284710293),\n",
       " (\"['mul', False, 'mul', 12, False, False]\", 0.02540706792529933),\n",
       " (\"['add', True, 'mul', 12, False, True]\", 0.02543732870436983),\n",
       " (\"['add', True, 'add', 12, False, True]\", 0.02544067455860782),\n",
       " (\"['add', True, 'add', 12, False, False]\", 0.025446516375088477),\n",
       " (\"['add', True, 'mul', 12, False, False]\", 0.025470381964872894),\n",
       " (\"['add', False, 'add', 12, False, False]\", 0.02547714285180749),\n",
       " (\"['add', False, 'add', 12, False, True]\", 0.025479286897133503),\n",
       " (\"['add', False, 'mul', 12, True, False]\", 0.025493153558478466),\n",
       " (\"['add', False, 'mul', 12, True, True]\", 0.025598364002459798),\n",
       " (\"['mul', False, 'add', 12, False, True]\", 0.025699300112409944),\n",
       " (\"['mul', False, 'add', 12, False, False]\", 0.025718139125124457),\n",
       " (\"['mul', False, 'add', 12, True, False]\", 0.02578727234626988),\n",
       " (\"['mul', False, 'mul', 12, True, False]\", 0.026370171184458842),\n",
       " (\"['add', True, 'mul', 12, True, False]\", 0.026436982006199393),\n",
       " (\"['add', True, 'mul', 12, True, True]\", 0.02660414777573477),\n",
       " (\"['add', False, 'add', 12, True, False]\", 0.02745745181641671),\n",
       " (\"['mul', False, 'add', 12, True, True]\", 0.027513851818783835),\n",
       " (\"['add', False, 'add', 12, True, True]\", 0.027580205921188625),\n",
       " (\"[None, False, 'mul', 12, True, True]\", 0.028317906695233326),\n",
       " (\"['mul', False, 'mul', 12, True, True]\", 0.028470071613921434),\n",
       " (\"[None, False, 'mul', 12, False, True]\", 0.02901179205471259),\n",
       " (\"[None, False, 'add', 12, False, True]\", 0.02955318079242472),\n",
       " (\"[None, False, 'add', 12, True, True]\", 0.03089537110663241),\n",
       " (\"[None, False, 'mul', 12, True, False]\", 0.03335786268668557),\n",
       " (\"[None, False, 'mul', 12, False, False]\", 0.03391976339147316),\n",
       " (\"[None, False, 'add', 12, False, False]\", 0.034404409202487565),\n",
       " (\"['add', True, 'add', 12, True, True]\", 0.035348608220289054),\n",
       " (\"[None, False, 'add', 12, True, False]\", 0.0357828375668547),\n",
       " (\"['add', True, 'add', 12, True, False]\", 0.0361968403538267),\n",
       " (\"['add', False, 'mul', 3, False, False]\", 0.05168698877421733),\n",
       " (\"['add', False, 'mul', 3, False, True]\", 0.051689309558906306),\n",
       " (\"['add', False, 'add', 3, False, True]\", 0.05169027982711925),\n",
       " (\"['add', False, 'add', 3, False, False]\", 0.051690947399197044),\n",
       " (\"['mul', False, 'add', 3, False, False]\", 0.051702813133919716),\n",
       " (\"['mul', False, 'add', 3, False, True]\", 0.051708092620968135),\n",
       " (\"['mul', False, 'mul', 3, True, False]\", 0.051715205265149916),\n",
       " (\"['mul', False, 'mul', 3, True, True]\", 0.05172662451238672),\n",
       " (\"['mul', False, 'mul', 3, False, True]\", 0.05174841766238018),\n",
       " (\"['mul', False, 'mul', 3, False, False]\", 0.05175037121391054),\n",
       " (\"['add', False, 'mul', 3, True, False]\", 0.05200097216734898),\n",
       " (\"['add', False, 'mul', 3, True, True]\", 0.05208549858457815),\n",
       " (\"['add', False, 'add', 3, True, False]\", 0.05234639991809862),\n",
       " (\"['add', False, 'add', 3, True, True]\", 0.05246534928363948),\n",
       " (\"['add', True, 'mul', 3, True, False]\", 0.05416482252300788),\n",
       " (\"['mul', False, 'add', 3, True, False]\", 0.054265655965400464),\n",
       " (\"['add', True, 'mul', 3, True, True]\", 0.054321828322473134),\n",
       " (\"['add', True, 'add', 3, True, False]\", 0.05480525379923473),\n",
       " (\"['add', True, 'add', 3, True, True]\", 0.05497257936988173),\n",
       " (\"['add', True, 'mul', 3, False, False]\", 0.05577011171016099),\n",
       " (\"['add', True, 'mul', 3, False, True]\", 0.05578208741615304),\n",
       " (\"['add', True, 'add', 3, False, False]\", 0.05579213074992851),\n",
       " (\"['add', True, 'add', 3, False, True]\", 0.055795491278611685),\n",
       " (\"['mul', False, None, 0, True, False]\", 0.055873835696567814),\n",
       " (\"['mul', False, None, 3, True, False]\", 0.055873835696567814),\n",
       " (\"['mul', False, None, 12, True, False]\", 0.055873835696567814),\n",
       " (\"['add', False, None, 0, False, True]\", 0.05592439004872978),\n",
       " (\"['add', False, None, 3, False, True]\", 0.05592439004872978),\n",
       " (\"['add', False, None, 12, False, True]\", 0.05592439004872978),\n",
       " (\"['add', False, None, 0, False, False]\", 0.05592576132510878),\n",
       " (\"['add', False, None, 3, False, False]\", 0.05592576132510878),\n",
       " (\"['add', False, None, 12, False, False]\", 0.05592576132510878),\n",
       " (\"['mul', False, None, 0, False, True]\", 0.05599849153471965),\n",
       " (\"['mul', False, None, 3, False, True]\", 0.05599849153471965),\n",
       " (\"['mul', False, None, 12, False, True]\", 0.05599849153471965),\n",
       " (\"['mul', False, None, 0, False, False]\", 0.0559990306799429),\n",
       " (\"['mul', False, None, 3, False, False]\", 0.0559990306799429),\n",
       " (\"['mul', False, None, 12, False, False]\", 0.0559990306799429),\n",
       " (\"['mul', False, None, 0, True, True]\", 0.0562412710845902),\n",
       " (\"['mul', False, None, 3, True, True]\", 0.0562412710845902),\n",
       " (\"['mul', False, None, 12, True, True]\", 0.0562412710845902),\n",
       " (\"['add', False, None, 0, True, False]\", 0.056589938929477196),\n",
       " (\"['add', False, None, 3, True, False]\", 0.056589938929477196),\n",
       " (\"['add', False, None, 12, True, False]\", 0.056589938929477196),\n",
       " (\"['add', False, None, 0, True, True]\", 0.05675935693696265),\n",
       " (\"['add', False, None, 3, True, True]\", 0.05675935693696265),\n",
       " (\"['add', False, None, 12, True, True]\", 0.05675935693696265),\n",
       " (\"['add', True, None, 0, True, False]\", 0.05799898029300888),\n",
       " (\"['add', True, None, 3, True, False]\", 0.05799898029300888),\n",
       " (\"['add', True, None, 12, True, False]\", 0.05799898029300888),\n",
       " (\"['add', True, None, 0, True, True]\", 0.05823116054381532),\n",
       " (\"['add', True, None, 3, True, True]\", 0.05823116054381532),\n",
       " (\"['add', True, None, 12, True, True]\", 0.05823116054381532),\n",
       " (\"[None, False, 'add', 3, False, True]\", 0.05831473031957668),\n",
       " (\"[None, False, 'mul', 3, False, True]\", 0.058349843908269375),\n",
       " (\"[None, False, 'mul', 3, True, True]\", 0.058396641877288914),\n",
       " (\"[None, False, 'add', 3, True, True]\", 0.05840004576384573),\n",
       " (\"['add', True, None, 0, False, False]\", 0.059510579357750934),\n",
       " (\"['add', True, None, 3, False, False]\", 0.059510579357750934),\n",
       " (\"['add', True, None, 12, False, False]\", 0.059510579357750934),\n",
       " (\"['add', True, None, 0, False, True]\", 0.059512074331361284),\n",
       " (\"['add', True, None, 3, False, True]\", 0.059512074331361284),\n",
       " (\"['add', True, None, 12, False, True]\", 0.059512074331361284),\n",
       " (\"['mul', False, 'add', 3, True, True]\", 0.05961687125187452),\n",
       " ('[None, False, None, 0, True, True]', 0.06331844388284437),\n",
       " ('[None, False, None, 3, True, True]', 0.06331844388284437),\n",
       " ('[None, False, None, 12, True, True]', 0.06331844388284437),\n",
       " ('[None, False, None, 0, False, True]', 0.0635294975445257),\n",
       " ('[None, False, None, 3, False, True]', 0.0635294975445257),\n",
       " ('[None, False, None, 12, False, True]', 0.0635294975445257),\n",
       " (\"[None, False, 'add', 3, True, False]\", 0.06396073149636697),\n",
       " (\"[None, False, 'mul', 3, True, False]\", 0.06406919580558061),\n",
       " (\"[None, False, 'add', 3, False, False]\", 0.06414115296986046),\n",
       " (\"[None, False, 'mul', 3, False, False]\", 0.06424647370984259),\n",
       " ('[None, False, None, 0, True, False]', 0.06860664335670764),\n",
       " ('[None, False, None, 3, True, False]', 0.06860664335670764),\n",
       " ('[None, False, None, 12, True, False]', 0.06860664335670764),\n",
       " ('[None, False, None, 0, False, False]', 0.06897231302905443),\n",
       " ('[None, False, None, 3, False, False]', 0.06897231302905443),\n",
       " ('[None, False, None, 12, False, False]', 0.06897231302905443),\n",
       " (\"['mul', True, 'mul', 12, True, True]\", 0.15476855660299582),\n",
       " (\"['mul', True, 'add', 12, True, True]\", 0.18120473513490007),\n",
       " (\"['mul', True, None, 0, True, True]\", 0.1947695429204063),\n",
       " (\"['mul', True, None, 3, True, True]\", 0.1947695429204063),\n",
       " (\"['mul', True, None, 12, True, True]\", 0.1947695429204063),\n",
       " (\"['mul', True, 'mul', 3, True, True]\", 0.21031609261829073),\n",
       " (\"['mul', True, 'add', 3, True, True]\", 0.21807406558941564),\n",
       " (\"['mul', True, 'mul', 12, True, False]\", 0.30746002096957575),\n",
       " (\"['mul', True, None, 0, True, False]\", 0.3534614963060859),\n",
       " (\"['mul', True, None, 3, True, False]\", 0.3534614963060859),\n",
       " (\"['mul', True, None, 12, True, False]\", 0.3534614963060859),\n",
       " (\"['mul', True, 'add', 12, True, False]\", 0.4178781453538599),\n",
       " (\"['mul', True, 'add', 3, True, False]\", 0.44125442736161896),\n",
       " (\"['mul', True, 'mul', 3, True, False]\", 0.4540134344246278),\n",
       " (\"['mul', True, 'mul', 12, False, True]\", 0.49913056081415513),\n",
       " (\"['mul', True, 'add', 12, False, True]\", 0.5356460221741268),\n",
       " (\"['mul', True, 'mul', 12, False, False]\", 0.9828720901526837),\n",
       " (\"['mul', True, None, 0, False, True]\", 1.0849738159989863),\n",
       " (\"['mul', True, None, 3, False, True]\", 1.0849738159989863),\n",
       " (\"['mul', True, None, 12, False, True]\", 1.0849738159989863),\n",
       " (\"['mul', True, 'add', 12, False, False]\", 1.0887479833423648),\n",
       " (\"['mul', True, 'mul', 3, False, True]\", 1.271953612893736),\n",
       " (\"['mul', True, 'add', 3, False, True]\", 1.3911125553188173),\n",
       " (\"['mul', True, None, 0, False, False]\", 2.2083385719870905),\n",
       " (\"['mul', True, None, 3, False, False]\", 2.2083385719870905),\n",
       " (\"['mul', True, None, 12, False, False]\", 2.2083385719870905),\n",
       " (\"['mul', True, 'mul', 3, False, False]\", 2.5849542149977194),\n",
       " (\"['mul', True, 'add', 3, False, False]\", 2.9079497236215297)]"
      ]
     },
     "execution_count": 22,
     "metadata": {},
     "output_type": "execute_result"
    }
   ],
   "source": [
    "# Printing the final scores\n",
    "scores"
   ]
  },
  {
   "cell_type": "code",
   "execution_count": 23,
   "id": "vocal-millennium",
   "metadata": {},
   "outputs": [
    {
     "name": "stdout",
     "output_type": "stream",
     "text": [
      "The no. of unstable original configurations that were feeded to the Exponential Smoothing model are:  76\n"
     ]
    }
   ],
   "source": [
    "print('The no. of unstable original configurations that were feeded to the Exponential Smoothing model are: ',len(config)-len(scores))"
   ]
  },
  {
   "cell_type": "markdown",
   "id": "sacred-finland",
   "metadata": {},
   "source": [
    "### Checking if the best Exponential Smoothing model with config ['add', False, 'mul', 12, False, False] has stable configuration."
   ]
  },
  {
   "cell_type": "code",
   "execution_count": 24,
   "id": "alike-nevada",
   "metadata": {},
   "outputs": [],
   "source": [
    "# Performing train test split of the biscuit series\n",
    "y_train, y_test = train_test_split(data, n_test)"
   ]
  },
  {
   "cell_type": "code",
   "execution_count": 25,
   "id": "lined-geography",
   "metadata": {},
   "outputs": [
    {
     "name": "stdout",
     "output_type": "stream",
     "text": [
      "                       ExponentialSmoothing Model Results                       \n",
      "================================================================================\n",
      "Dep. Variable:                      Vol   No. Observations:                   30\n",
      "Model:             ExponentialSmoothing   SSE                              0.050\n",
      "Optimized:                         True   AIC                           -159.937\n",
      "Trend:                         Additive   BIC                           -137.518\n",
      "Seasonal:                Multiplicative   AICC                           -97.755\n",
      "Seasonal Periods:                    12   Date:                 Tue, 02 Mar 2021\n",
      "Box-Cox:                          False   Time:                         15:17:56\n",
      "Box-Cox Coeff.:                    None                                         \n",
      "=================================================================================\n",
      "                          coeff                 code              optimized      \n",
      "---------------------------------------------------------------------------------\n",
      "smoothing_level              1.4901e-08                alpha                 True\n",
      "smoothing_trend              5.9402e-09                 beta                 True\n",
      "smoothing_seasonal           3.6502e-15                gamma                 True\n",
      "initial_level                 5.6332413                  l.0                 True\n",
      "initial_trend                 0.0095614                  b.0                 True\n",
      "initial_seasons.0             0.9827177                  s.0                 True\n",
      "initial_seasons.1             0.9731778                  s.1                 True\n",
      "initial_seasons.2             0.9738778                  s.2                 True\n",
      "initial_seasons.3             0.9915377                  s.3                 True\n",
      "initial_seasons.4             0.9800482                  s.4                 True\n",
      "initial_seasons.5             0.9814413                  s.5                 True\n",
      "initial_seasons.6             0.9771464                  s.6                 True\n",
      "initial_seasons.7             0.9829995                  s.7                 True\n",
      "initial_seasons.8             0.9668755                  s.8                 True\n",
      "initial_seasons.9             0.9879100                  s.9                 True\n",
      "initial_seasons.10            0.9887468                 s.10                 True\n",
      "initial_seasons.11            0.9861335                 s.11                 True\n",
      "---------------------------------------------------------------------------------\n"
     ]
    },
    {
     "name": "stderr",
     "output_type": "stream",
     "text": [
      "C:\\Users\\panka\\anaconda3\\lib\\site-packages\\statsmodels\\tsa\\base\\tsa_model.py:524: ValueWarning: No frequency information was provided, so inferred frequency MS will be used.\n",
      "  warnings.warn('No frequency information was'\n"
     ]
    }
   ],
   "source": [
    "# Training the model again\n",
    "model_exp = ExponentialSmoothing(y_train, trend='add', damped=False, seasonal='mul', seasonal_periods=12)\n",
    "model_exp_fit = model_exp.fit(optimized=True, use_boxcox=False, remove_bias=False)\n",
    "print(model_exp_fit.summary())"
   ]
  },
  {
   "cell_type": "markdown",
   "id": "middle-illness",
   "metadata": {},
   "source": [
    "### Observations: \n",
    "### 1) The above model seems to have fitted the data well, as no box-cox transformation was used which was anticipated, as the time series was log_series  and further plot pointed to additive trend and multiplicative seasonal component of periodicity 12. The model picked up all of them.\n",
    "### 2) But one drawback of the above model is the residuals are not forced to have mean 0, which may lead to a biased model. Thus lets try refitting the next best model, which has all the same parameters but for remove_bias=True. "
   ]
  },
  {
   "cell_type": "code",
   "execution_count": 26,
   "id": "registered-thesis",
   "metadata": {},
   "outputs": [
    {
     "name": "stdout",
     "output_type": "stream",
     "text": [
      "                       ExponentialSmoothing Model Results                       \n",
      "================================================================================\n",
      "Dep. Variable:                      Vol   No. Observations:                   30\n",
      "Model:             ExponentialSmoothing   SSE                              0.050\n",
      "Optimized:                         True   AIC                           -159.937\n",
      "Trend:                         Additive   BIC                           -137.518\n",
      "Seasonal:                Multiplicative   AICC                           -97.755\n",
      "Seasonal Periods:                    12   Date:                 Tue, 02 Mar 2021\n",
      "Box-Cox:                          False   Time:                         15:40:57\n",
      "Box-Cox Coeff.:                    None                                         \n",
      "=================================================================================\n",
      "                          coeff                 code              optimized      \n",
      "---------------------------------------------------------------------------------\n",
      "smoothing_level              1.4901e-08                alpha                 True\n",
      "smoothing_trend              5.9402e-09                 beta                 True\n",
      "smoothing_seasonal           3.6502e-15                gamma                 True\n",
      "initial_level                 5.6332413                  l.0                 True\n",
      "initial_trend                 0.0095614                  b.0                 True\n",
      "initial_seasons.0             0.9827177                  s.0                 True\n",
      "initial_seasons.1             0.9731778                  s.1                 True\n",
      "initial_seasons.2             0.9738778                  s.2                 True\n",
      "initial_seasons.3             0.9915377                  s.3                 True\n",
      "initial_seasons.4             0.9800482                  s.4                 True\n",
      "initial_seasons.5             0.9814413                  s.5                 True\n",
      "initial_seasons.6             0.9771464                  s.6                 True\n",
      "initial_seasons.7             0.9829995                  s.7                 True\n",
      "initial_seasons.8             0.9668755                  s.8                 True\n",
      "initial_seasons.9             0.9879100                  s.9                 True\n",
      "initial_seasons.10            0.9887468                 s.10                 True\n",
      "initial_seasons.11            0.9861335                 s.11                 True\n",
      "---------------------------------------------------------------------------------\n"
     ]
    },
    {
     "name": "stderr",
     "output_type": "stream",
     "text": [
      "C:\\Users\\panka\\anaconda3\\lib\\site-packages\\statsmodels\\tsa\\base\\tsa_model.py:524: ValueWarning: No frequency information was provided, so inferred frequency MS will be used.\n",
      "  warnings.warn('No frequency information was'\n"
     ]
    }
   ],
   "source": [
    "# Training the next best model again\n",
    "model_exp = ExponentialSmoothing(y_train, trend='add', damped=False, seasonal='mul', seasonal_periods=12)\n",
    "model_exp_fit = model_exp.fit(optimized=True, use_boxcox=False, remove_bias=True)\n",
    "print(model_exp_fit.summary())"
   ]
  },
  {
   "cell_type": "markdown",
   "id": "inner-ocean",
   "metadata": {},
   "source": [
    "### Observations: \n",
    "### 1) The above model has also beautifully fitted the dataset, with same AICC as that of the previous model, but with the added advantage of the residual average being equal to zero & test set rmse being almost equal to that of the previous model."
   ]
  },
  {
   "cell_type": "markdown",
   "id": "hollow-arctic",
   "metadata": {},
   "source": [
    "### Conclusions:\n",
    "### 1) Thus our Exponential Smoothing model of choice for this dataset is the 2nd best model with configuration               \"[ trend = 'add', damped = False,seasonal = 'mul', periodicity = 12, boxcox transform = False, rem_bias = True]\"\n",
    "### 2) The test set rmse corresponding to this model = 0.02497112 , which is less than the best naive_ model rmse score of 0.051231104. Thus our chosen exponential smoothing model does have some predictive power.\n"
   ]
  },
  {
   "cell_type": "code",
   "execution_count": 28,
   "id": "planned-cologne",
   "metadata": {},
   "outputs": [],
   "source": [
    "# Getting the predictions for the next 6 months.\n",
    "bis_log_preds = model_exp_fit.predict(start=len(bis_log),end=(len(bis_log)+5))"
   ]
  },
  {
   "cell_type": "code",
   "execution_count": 29,
   "id": "proud-sweden",
   "metadata": {},
   "outputs": [
    {
     "data": {
      "text/plain": [
       "2019-10-01    5.883533\n",
       "2019-11-01    5.835723\n",
       "2019-12-01    5.849232\n",
       "2020-01-01    5.964780\n",
       "2020-02-01    5.905034\n",
       "2020-03-01    5.922811\n",
       "Freq: MS, dtype: float64"
      ]
     },
     "execution_count": 29,
     "metadata": {},
     "output_type": "execute_result"
    }
   ],
   "source": [
    "bis_log_preds"
   ]
  },
  {
   "cell_type": "code",
   "execution_count": 30,
   "id": "neutral-browse",
   "metadata": {},
   "outputs": [
    {
     "data": {
      "image/png": "[encoded data removed]",
      "text/plain": [
       "<Figure size 864x576 with 1 Axes>"
      ]
     },
     "metadata": {
      "needs_background": "light"
     },
     "output_type": "display_data"
    }
   ],
   "source": [
    "# Displaying the True & Predicted values of the biscuit series\n",
    "plt.figure(figsize=(12,8))\n",
    "plt.plot(bis_log,color='green',label='log_bis_series')\n",
    "plt.plot(bis_log_preds,color='red',marker='+',label='forecasted_log_bis_series')\n",
    "plt.legend(loc='upper left')\n",
    "plt.xlabel('Date')\n",
    "plt.ylabel('log(biscuit_vol)')\n",
    "plt.title('Exponential Smoothing Forecasts of log_bis series')\n",
    "plt.show()"
   ]
  },
  {
   "cell_type": "code",
   "execution_count": null,
   "id": "demonstrated-beach",
   "metadata": {},
   "outputs": [],
   "source": []
  }
 ],
 "metadata": {
  "kernelspec": {
   "display_name": "Python 3",
   "language": "python",
   "name": "python3"
  },
  "language_info": {
   "codemirror_mode": {
    "name": "ipython",
    "version": 3
   },
   "file_extension": ".py",
   "mimetype": "text/x-python",
   "name": "python",
   "nbconvert_exporter": "python",
   "pygments_lexer": "ipython3",
   "version": "3.8.5"
  }
 },
 "nbformat": 4,
 "nbformat_minor": 5
}
